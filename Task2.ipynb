{
 "cells": [
  {
   "cell_type": "markdown",
   "metadata": {},
   "source": [
    "**1-Write a Python program to calculate the length of a string using 2 ways"
   ]
  },
  {
   "cell_type": "code",
   "execution_count": 2,
   "metadata": {
    "ExecuteTime": {
     "end_time": "2023-08-01T13:46:33.541225Z",
     "start_time": "2023-08-01T13:46:31.061520Z"
    }
   },
   "outputs": [
    {
     "name": "stdout",
     "output_type": "stream",
     "text": [
      "please enter a worddsgdfsgf\n",
      "8\n"
     ]
    }
   ],
   "source": [
    "word1=input(\"please enter a word\")\n",
    "print(len(word1))\n"
   ]
  },
  {
   "cell_type": "code",
   "execution_count": 4,
   "metadata": {},
   "outputs": [
    {
     "name": "stdout",
     "output_type": "stream",
     "text": [
      "please enter a wordmohamed\n",
      "7\n"
     ]
    }
   ],
   "source": [
    "word2=input(\"please enter a word\")\n",
    "count=0\n",
    "for i in word2:\n",
    "    count+=1\n",
    "print(count)"
   ]
  },
  {
   "cell_type": "markdown",
   "metadata": {},
   "source": [
    "**2-Write a Python program to get a string made of the first 2 and last 2 characters of a given string. If the string length is less than 2, return the empty string instead (\"##Sample String : 'w3resource'\n",
    "Expected Result : 'w3ce'\n",
    "##Sample String : 'w3'\n",
    "Expected Result : 'w3w3'\n",
    "##Sample String : ' w'\n",
    "Expected Result : Empty String)"
   ]
  },
  {
   "cell_type": "code",
   "execution_count": 7,
   "metadata": {},
   "outputs": [
    {
     "name": "stdout",
     "output_type": "stream",
     "text": [
      "please enter a namewe\n",
      "wewe\n"
     ]
    }
   ],
   "source": [
    "name=input(\"please enter a name\")\n",
    "namelength=len(name)\n",
    "if(namelength<2):\n",
    "    print(\"\")\n",
    "else:\n",
    "    new_name=name[0:2]+name[-2:]\n",
    "    print(new_name)\n",
    "    "
   ]
  },
  {
   "cell_type": "markdown",
   "metadata": {},
   "source": [
    "**3-Write a Python program to add 'ing' at the end of a given string (length should be at least 3). If the given string already ends with 'ing', add 'ly' instead. If the string length of the given string is less than 3, leave it unchanged. (Sample String : 'abc'\n",
    "Expected Result : 'abcing')"
   ]
  },
  {
   "cell_type": "code",
   "execution_count": 12,
   "metadata": {},
   "outputs": [
    {
     "name": "stdout",
     "output_type": "stream",
     "text": [
      "Please Enter Word  noingly\n",
      "noinglying\n"
     ]
    }
   ],
   "source": [
    "word=input(\"Please Enter Word  \")\n",
    "word_length=len(word)\n",
    "if word_length<3:\n",
    "    print(word)\n",
    "else:\n",
    "    if word[-3:] == \"ing\":\n",
    "        print(word+\"ly\")\n",
    "    else:\n",
    "        print(word+\"ing\")"
   ]
  },
  {
   "cell_type": "markdown",
   "metadata": {},
   "source": [
    "**4-Write a Python function that takes a list of words and return the longest word and the length of the longest one\n",
    "(Longest word: Exercises\n",
    "Length of the longest word: 9)"
   ]
  },
  {
   "cell_type": "code",
   "execution_count": 24,
   "metadata": {},
   "outputs": [
    {
     "name": "stdout",
     "output_type": "stream",
     "text": [
      "7\n",
      "beiolaa\n"
     ]
    }
   ],
   "source": [
    "words=[\"Ali\",\"ALaa\",\"Eshoo\",\"Elbait\",\"beiolaa\"]\n",
    "def the_bigest_word(words):\n",
    "    maxlength=0\n",
    "    for i in words:\n",
    "        length=int (len(i))\n",
    "        if length>maxlength:\n",
    "            maxlength=length\n",
    "    print (maxlength)\n",
    "    print(i)\n",
    "the_bigest_word(words)   "
   ]
  },
  {
   "cell_type": "markdown",
   "metadata": {},
   "source": [
    "**5-Write a Python program to change a given string to a newly string where the first and last chars have been exchanged using 2 ways (Sample String:abca  Expected Result:ebce)"
   ]
  },
  {
   "cell_type": "code",
   "execution_count": 26,
   "metadata": {},
   "outputs": [
    {
     "name": "stdout",
     "output_type": "stream",
     "text": [
      "wertyoui\n",
      "iertyouw\n"
     ]
    }
   ],
   "source": [
    "word=input()\n",
    "new_word=word[-1]+word[1:-1]+word[0]\n",
    "print(new_word)"
   ]
  },
  {
   "cell_type": "code",
   "execution_count": 27,
   "metadata": {},
   "outputs": [
    {
     "name": "stdout",
     "output_type": "stream",
     "text": [
      "rabono\n",
      "oabonr\n"
     ]
    }
   ],
   "source": [
    "word=input()\n",
    "first_letter = word[0]\n",
    "last_letter  = word[-1]\n",
    "print(last_letter+word[1:-1]+first_letter)"
   ]
  },
  {
   "cell_type": "markdown",
   "metadata": {},
   "source": [
    "**6-Write a Python program to remove characters that have odd index values in a given string (Sample String:abca Expected Result:ac)"
   ]
  },
  {
   "cell_type": "code",
   "execution_count": 6,
   "metadata": {},
   "outputs": [
    {
     "name": "stdout",
     "output_type": "stream",
     "text": [
      "abca\n",
      "ac\n"
     ]
    }
   ],
   "source": [
    "word=input()\n",
    "new_word=''\n",
    "for i in range(0,len(word),2):\n",
    "    new_word+=word[i]\n",
    "print(new_word)"
   ]
  },
  {
   "cell_type": "markdown",
   "metadata": {},
   "source": [
    "**7-Write a Python program to count the occurrences of each word in a given sentence (Sample String:amr and ahmed are frindes but amr is the tallest Expected Result:2)"
   ]
  },
  {
   "cell_type": "code",
   "execution_count": 13,
   "metadata": {},
   "outputs": [
    {
     "name": "stdout",
     "output_type": "stream",
     "text": [
      "hello 1\n",
      "my 2\n",
      "name 2\n",
      "is 2\n",
      "meme 1\n",
      "i 4\n",
      "have 1\n",
      "a 7\n",
      "cat 2\n",
      "my 2\n",
      "cat 2\n",
      "its 1\n",
      "name 2\n",
      "is 2\n",
      "toto 2\n",
      "toto 2\n",
      "go 1\n",
      "to 5\n",
      "nnamw 1\n"
     ]
    }
   ],
   "source": [
    "word=\"hello my name is meme i have a cat my cat its name is toto toto go to nnamw\"\n",
    "word_list=word.split()\n",
    "\n",
    "\n",
    "for i in word_list:\n",
    "    print(i,word.count(i))\n"
   ]
  },
  {
   "cell_type": "markdown",
   "metadata": {},
   "source": [
    "**8-Write a Python script that takes input from the user and displays that input back in upper and lower cases"
   ]
  },
  {
   "cell_type": "code",
   "execution_count": 16,
   "metadata": {},
   "outputs": [
    {
     "name": "stdout",
     "output_type": "stream",
     "text": [
      "fhkdjssbvfdkljdsf;lkdl\n",
      "FHKDJSSBVFDKLJDSF;LKDL\n",
      "fhkdjssbvfdkljdsf;lkdl\n"
     ]
    }
   ],
   "source": [
    "word=input()\n",
    "print(word.upper())\n",
    "print(word.lower())"
   ]
  },
  {
   "cell_type": "markdown",
   "metadata": {},
   "source": [
    "**9-Write a Python function to reverse a string if its length is a multiple of 4"
   ]
  },
  {
   "cell_type": "code",
   "execution_count": 10,
   "metadata": {},
   "outputs": [
    {
     "name": "stdout",
     "output_type": "stream",
     "text": [
      "please enter your wordswert\n",
      "trew\n"
     ]
    }
   ],
   "source": [
    "word=input(\"please enter your words\")\n",
    "length_of_word=len(word)\n",
    "reversed_word=\"\"\n",
    "\n",
    "if (length_of_word % 4 == 0):\n",
    "    i=length_of_word-1\n",
    "    \n",
    "    while i>=0:\n",
    "        reversed_word= reversed_word + word[i]\n",
    "        i=i-1\n",
    "        \n",
    "print(reversed_word)        \n",
    "        \n",
    "    "
   ]
  },
  {
   "cell_type": "markdown",
   "metadata": {},
   "source": [
    "**10- Write a Python program to remove a newline in Python"
   ]
  },
  {
   "cell_type": "code",
   "execution_count": 19,
   "metadata": {},
   "outputs": [
    {
     "name": "stdout",
     "output_type": "stream",
     "text": [
      " mo salah mosalah\n"
     ]
    }
   ],
   "source": [
    "line=''' mo \n",
    "salah \n",
    "mo\n",
    "salah\n",
    "\n",
    "'''\n",
    "print(line.replace(\"\\n\",\"\"))"
   ]
  },
  {
   "cell_type": "markdown",
   "metadata": {},
   "source": [
    "**11-Write a Python program to check whether a string starts with specified characters"
   ]
  },
  {
   "cell_type": "code",
   "execution_count": 20,
   "metadata": {},
   "outputs": [
    {
     "name": "stdout",
     "output_type": "stream",
     "text": [
      " Enter Your String Mohamed\n",
      "yes\n"
     ]
    }
   ],
   "source": [
    "string=input(\" Enter Your String \")\n",
    "specific_char=\"M\"\n",
    "if string[0]==specific_char:\n",
    "    print(\"yes\")\n",
    "else:\n",
    "    print(\"no\")\n",
    "        "
   ]
  },
  {
   "cell_type": "markdown",
   "metadata": {},
   "source": [
    "**12- Write a Python program to add prefix text to all of the lines in a string"
   ]
  },
  {
   "cell_type": "code",
   "execution_count": 21,
   "metadata": {},
   "outputs": [
    {
     "name": "stdout",
     "output_type": "stream",
     "text": [
      "Eng/  Ahmed Rashad\n",
      "Eng/  Mohamed Ashraf \n",
      "Eng/  Adham Mosa\n"
     ]
    }
   ],
   "source": [
    "name='''Ahmed Rashad\n",
    "Mohamed Ashraf \n",
    "Adham Mosa'''\n",
    "prefix=\"Eng/ \"\n",
    "lines=name.splitlines()\n",
    "for line in lines:\n",
    "    print(prefix,line)\n",
    "    "
   ]
  },
  {
   "cell_type": "markdown",
   "metadata": {},
   "source": [
    "**13-Write a Python program to print the following numbers up to 2 decimal places"
   ]
  },
  {
   "cell_type": "code",
   "execution_count": 24,
   "metadata": {},
   "outputs": [
    {
     "name": "stdout",
     "output_type": "stream",
     "text": [
      "enter the number 2.333\n"
     ]
    },
    {
     "data": {
      "text/plain": [
       "2.33"
      ]
     },
     "execution_count": 24,
     "metadata": {},
     "output_type": "execute_result"
    }
   ],
   "source": [
    "number=float(input(\"enter the number \"))\n",
    "\n",
    "round(number,2)"
   ]
  },
  {
   "cell_type": "markdown",
   "metadata": {},
   "source": [
    "**14-Write a Python program to print the following numbers up to 2 decimal places with a sign"
   ]
  },
  {
   "cell_type": "markdown",
   "metadata": {},
   "source": []
  },
  {
   "cell_type": "markdown",
   "metadata": {},
   "source": [
    "**15-Write a Python program to display a number with a comma separator"
   ]
  },
  {
   "cell_type": "code",
   "execution_count": 1,
   "metadata": {},
   "outputs": [
    {
     "name": "stdout",
     "output_type": "stream",
     "text": [
      "please enter the number2.44\n"
     ]
    },
    {
     "data": {
      "text/plain": [
       "'2,44'"
      ]
     },
     "execution_count": 1,
     "metadata": {},
     "output_type": "execute_result"
    }
   ],
   "source": [
    "number = input(\"please enter the number\")\n",
    "number.replace(\".\",\",\")"
   ]
  },
  {
   "cell_type": "markdown",
   "metadata": {},
   "source": [
    "**16-Write a Python program to reverse a string using 2 ways"
   ]
  },
  {
   "cell_type": "code",
   "execution_count": 2,
   "metadata": {},
   "outputs": [
    {
     "name": "stdout",
     "output_type": "stream",
     "text": [
      " enter the string wert\n",
      "trew\n"
     ]
    }
   ],
   "source": [
    "string=input(\" enter the string \")\n",
    "print(string[::-1])"
   ]
  },
  {
   "cell_type": "code",
   "execution_count": 3,
   "metadata": {},
   "outputs": [
    {
     "name": "stdout",
     "output_type": "stream",
     "text": [
      "please enter your wordswert\n",
      "trew\n"
     ]
    }
   ],
   "source": [
    "word=input(\"please enter your words\")\n",
    "length_of_word=len(word)\n",
    "reversed_word=\"\"\n",
    "\n",
    "\n",
    "i=length_of_word-1\n",
    "    \n",
    "while i>=0:\n",
    "    reversed_word= reversed_word + word[i]\n",
    "    i=i-1\n",
    "        \n",
    "print(reversed_word)"
   ]
  },
  {
   "cell_type": "markdown",
   "metadata": {},
   "source": [
    " **17-Write a Python program to count repeated characters in a string (hint:use dictionary)"
   ]
  },
  {
   "cell_type": "code",
   "execution_count": 10,
   "metadata": {},
   "outputs": [
    {
     "name": "stdout",
     "output_type": "stream",
     "text": [
      "enter name  mohamed ashraf ahmed\n"
     ]
    },
    {
     "data": {
      "text/plain": [
       "{'m': 3,\n",
       " 'o': 1,\n",
       " 'h': 3,\n",
       " 'a': 4,\n",
       " 'e': 2,\n",
       " 'd': 2,\n",
       " ' ': 2,\n",
       " 's': 1,\n",
       " 'r': 1,\n",
       " 'f': 1}"
      ]
     },
     "execution_count": 10,
     "metadata": {},
     "output_type": "execute_result"
    }
   ],
   "source": [
    "name=input(\"enter name  \")\n",
    "keys=[]\n",
    "char_dic=dict()\n",
    "for i in name:\n",
    "    keys.append(i)\n",
    "for i in keys:\n",
    "    char_dic[i] = name.count(i)\n",
    "char_dic\n"
   ]
  },
  {
   "cell_type": "markdown",
   "metadata": {},
   "source": [
    "**18-Write a Python program to find the first non-repeating character in a given string"
   ]
  },
  {
   "cell_type": "code",
   "execution_count": 13,
   "metadata": {},
   "outputs": [
    {
     "name": "stdout",
     "output_type": "stream",
     "text": [
      "enter the namemohamed\n",
      "o\n"
     ]
    }
   ],
   "source": [
    "name=input(\"enter the name\")\n",
    "for i in name:\n",
    "    if name.count(i)==1:\n",
    "        print (i)\n",
    "        break"
   ]
  },
  {
   "cell_type": "markdown",
   "metadata": {},
   "source": [
    "**19-Write a Python program to remove spaces from a given string"
   ]
  },
  {
   "cell_type": "code",
   "execution_count": 14,
   "metadata": {},
   "outputs": [
    {
     "name": "stdout",
     "output_type": "stream",
     "text": [
      "enter the namemohamed Ashraf\n"
     ]
    },
    {
     "data": {
      "text/plain": [
       "'mohamedAshraf'"
      ]
     },
     "execution_count": 14,
     "metadata": {},
     "output_type": "execute_result"
    }
   ],
   "source": [
    "name=input (\"enter the name\")\n",
    "name.replace(\" \",\"\")"
   ]
  },
  {
   "cell_type": "markdown",
   "metadata": {},
   "source": [
    "**20-Write a Python program to count the number of non-empty substrings of a given string"
   ]
  },
  {
   "cell_type": "code",
   "execution_count": 19,
   "metadata": {},
   "outputs": [
    {
     "name": "stdout",
     "output_type": "stream",
     "text": [
      "enter your name sirMohamed Ashraf Ahmed Ebrahim\n"
     ]
    },
    {
     "data": {
      "text/plain": [
       "['Mohamed', 'Ashraf', 'Ahmed', 'Ebrahim']"
      ]
     },
     "execution_count": 19,
     "metadata": {},
     "output_type": "execute_result"
    }
   ],
   "source": [
    "name = input(\"enter your name sir\")\n",
    "names=name.split(\" \")\n",
    "len(names)"
   ]
  },
  {
   "cell_type": "markdown",
   "metadata": {},
   "source": [
    "**21-write a Python program to swap first and last element of any list."
   ]
  },
  {
   "cell_type": "code",
   "execution_count": 21,
   "metadata": {},
   "outputs": [
    {
     "data": {
      "text/plain": [
       "['Ebrahim', 'Ashraf', 'Ahmed', 'Mohamed']"
      ]
     },
     "execution_count": 21,
     "metadata": {},
     "output_type": "execute_result"
    }
   ],
   "source": [
    "any_list=['Mohamed', 'Ashraf', 'Ahmed', 'Ebrahim']\n",
    "temp=any_list[-1]\n",
    "any_list[-1]=any_list[0]\n",
    "any_list[0]=temp\n",
    "any_list"
   ]
  },
  {
   "cell_type": "markdown",
   "metadata": {},
   "source": [
    "**22-Given a list in Python and provided the positions of the elements, write a program to swap the two elements in the list. (Input : List = [23, 65, 19, 90], pos1 = 1, pos2 = 3\n",
    "Output : [19, 65, 23, 90])"
   ]
  },
  {
   "cell_type": "code",
   "execution_count": 22,
   "metadata": {},
   "outputs": [
    {
     "data": {
      "text/plain": [
       "[19, 65, 23, 90]"
      ]
     },
     "execution_count": 22,
     "metadata": {},
     "output_type": "execute_result"
    }
   ],
   "source": [
    "List = [23, 65, 19, 90]\n",
    "temp=List[2]\n",
    "List[2]=List[0]\n",
    "List[0]=temp\n",
    "List"
   ]
  },
  {
   "cell_type": "markdown",
   "metadata": {},
   "source": [
    "**23- search for the all ways to know the length of the list"
   ]
  },
  {
   "cell_type": "code",
   "execution_count": null,
   "metadata": {},
   "outputs": [],
   "source": [
    "**24-write a Python code to find the Maximum number of list of numbers."
   ]
  },
  {
   "cell_type": "code",
   "execution_count": 24,
   "metadata": {},
   "outputs": [
    {
     "data": {
      "text/plain": [
       "90"
      ]
     },
     "execution_count": 24,
     "metadata": {},
     "output_type": "execute_result"
    }
   ],
   "source": [
    "List = [23, 65, 19, 90]\n",
    "List.sort()\n",
    "List\n",
    "List[-1]"
   ]
  },
  {
   "cell_type": "code",
   "execution_count": null,
   "metadata": {},
   "outputs": [],
   "source": [
    "**25-write a Python code to find the Minimum number of list of numbers."
   ]
  },
  {
   "cell_type": "code",
   "execution_count": 25,
   "metadata": {},
   "outputs": [
    {
     "data": {
      "text/plain": [
       "19"
      ]
     },
     "execution_count": 25,
     "metadata": {},
     "output_type": "execute_result"
    }
   ],
   "source": [
    "List = [23, 65, 19, 90]\n",
    "List.sort()\n",
    "List\n",
    "List[0]"
   ]
  },
  {
   "cell_type": "markdown",
   "metadata": {},
   "source": [
    "**26-search for if an elem is existing in list"
   ]
  },
  {
   "cell_type": "code",
   "execution_count": null,
   "metadata": {},
   "outputs": [],
   "source": []
  },
  {
   "cell_type": "markdown",
   "metadata": {},
   "source": [
    "**27- clear python list using different ways"
   ]
  },
  {
   "cell_type": "code",
   "execution_count": 26,
   "metadata": {},
   "outputs": [
    {
     "data": {
      "text/plain": [
       "[]"
      ]
     },
     "execution_count": 26,
     "metadata": {},
     "output_type": "execute_result"
    }
   ],
   "source": [
    "List = [23, 65, 19, 90]\n",
    "List.clear()\n",
    "List"
   ]
  },
  {
   "cell_type": "code",
   "execution_count": 37,
   "metadata": {},
   "outputs": [
    {
     "data": {
      "text/plain": [
       "[]"
      ]
     },
     "execution_count": 37,
     "metadata": {},
     "output_type": "execute_result"
    }
   ],
   "source": [
    "List = [23, 65, 19, 90]\n",
    "i=0\n",
    "while len(List) != 0:\n",
    "    List.pop(i)\n",
    "List    "
   ]
  },
  {
   "cell_type": "markdown",
   "metadata": {},
   "source": [
    "**28-remove duplicated elements from a list"
   ]
  },
  {
   "cell_type": "code",
   "execution_count": 5,
   "metadata": {},
   "outputs": [
    {
     "data": {
      "text/plain": [
       "{19, 23, 65, 9023, 11111}"
      ]
     },
     "execution_count": 5,
     "metadata": {},
     "output_type": "execute_result"
    }
   ],
   "source": [
    "List = [23, 65, 19, 9023, 65, 19, 9023, 65, 19, 9023, 65, 19, 11111]\n",
    "List=set(List)\n",
    "List"
   ]
  },
  {
   "cell_type": "markdown",
   "metadata": {},
   "source": [
    "**29-Given list values and keys list, convert these values to key value pairs in form of list of dictionaries. (Input : test_list = [“Gfg”, 3, “is”, 8], key_list = [“name”, “id”]\n",
    "Output : [{‘name’: ‘Gfg’, ‘id’: 3}, {‘name’: ‘is’, ‘id’: 8}])"
   ]
  },
  {
   "cell_type": "code",
   "execution_count": 20,
   "metadata": {},
   "outputs": [
    {
     "data": {
      "text/plain": [
       "{'name': 'Mohamed', 'age': 21, 'id': 202000728}"
      ]
     },
     "execution_count": 20,
     "metadata": {},
     "output_type": "execute_result"
    }
   ],
   "source": [
    "keys=[\"name\",\"age\",\"id\"]\n",
    "values=[\"Mohamed\",21,202000728]\n",
    "person=dict()\n",
    "for key ,value in zip(keys,values):\n",
    "    person[key]=value\n",
    "        \n",
    "\n",
    "person"
   ]
  },
  {
   "cell_type": "markdown",
   "metadata": {},
   "source": [
    "**30-write a python program to count unique values inside a list using different ways"
   ]
  },
  {
   "cell_type": "code",
   "execution_count": null,
   "metadata": {},
   "outputs": [],
   "source": []
  },
  {
   "cell_type": "markdown",
   "metadata": {},
   "source": [
    "**31-write a python program Extract all elements with Frequency greater than K (Input : test_list = [4, 6, 4, 3, 3, 4, 3, 4, 3, 8], K = 3 \n",
    "Output : [4, 3] )"
   ]
  },
  {
   "cell_type": "code",
   "execution_count": 6,
   "metadata": {},
   "outputs": [
    {
     "data": {
      "text/plain": [
       "[3, 4]"
      ]
     },
     "execution_count": 6,
     "metadata": {},
     "output_type": "execute_result"
    }
   ],
   "source": [
    "test_list = [4, 6, 4, 3, 3, 4, 3, 4, 3, 8]\n",
    "new_list=[]\n",
    "k=3\n",
    "for i in test_list:\n",
    "    if test_list.count(i)>=k:\n",
    "        new_list.append(i)\n",
    "\n",
    "        \n",
    "new_list=set(new_list) \n",
    "new_list=list(new_list)\n",
    "new_list        "
   ]
  },
  {
   "cell_type": "markdown",
   "metadata": {},
   "source": [
    "**32-write a python program to find the Strongest Neighbour (Input: 1 2 2 3 4 5\n",
    "Output: 2 2 3 4 5)"
   ]
  },
  {
   "cell_type": "code",
   "execution_count": null,
   "metadata": {},
   "outputs": [],
   "source": []
  },
  {
   "cell_type": "markdown",
   "metadata": {},
   "source": [
    "**33-write a Python Program to print all Possible Combinations from the three Digits (Input: [1, 2, 3]\n",
    "Output:\n",
    "1 2 3 ##\n",
    "1 3 2 ##\n",
    "2 1 3 ##\n",
    "2 3 1 ##\n",
    "3 1 2 ##\n",
    "3 2 1)"
   ]
  },
  {
   "cell_type": "code",
   "execution_count": null,
   "metadata": {},
   "outputs": [],
   "source": []
  },
  {
   "cell_type": "markdown",
   "metadata": {},
   "source": [
    "**34-write a Python program to find all the Combinations in the list with the given condition (Input: test_list = [1,2,3] \n",
    "Output: \n",
    " [1], [1, 2], [1, 2, 3], [1, 3]\n",
    " [2], [2, 3], [3])"
   ]
  },
  {
   "cell_type": "code",
   "execution_count": null,
   "metadata": {},
   "outputs": [],
   "source": []
  },
  {
   "cell_type": "markdown",
   "metadata": {},
   "source": [
    "**35-write a Python program to get all unique combinations of two Lists (List_1 = [\"a\",\"b\"]\n",
    "List_2 = [1,2]\n",
    "Unique_combination = [[('a',1),('b',2)],[('a',2),('b',1)]] )"
   ]
  },
  {
   "cell_type": "code",
   "execution_count": null,
   "metadata": {},
   "outputs": [],
   "source": []
  },
  {
   "cell_type": "markdown",
   "metadata": {},
   "source": [
    "**36-Remove all the occurrences of an element from a list in Python (Input : 1 1 2 3 4 5 1 2 1 \n",
    "\n",
    "**Output : 2 3 4 5 2)"
   ]
  },
  {
   "cell_type": "code",
   "execution_count": 21,
   "metadata": {},
   "outputs": [
    {
     "ename": "ValueError",
     "evalue": "list.remove(x): x not in list",
     "output_type": "error",
     "traceback": [
      "\u001b[1;31m---------------------------------------------------------------------------\u001b[0m",
      "\u001b[1;31mValueError\u001b[0m                                Traceback (most recent call last)",
      "\u001b[1;32m<ipython-input-21-2cb2ef919e71>\u001b[0m in \u001b[0;36m<module>\u001b[1;34m\u001b[0m\n\u001b[0;32m      3\u001b[0m \u001b[0mi\u001b[0m\u001b[1;33m=\u001b[0m\u001b[1;36m0\u001b[0m\u001b[1;33m\u001b[0m\u001b[1;33m\u001b[0m\u001b[0m\n\u001b[0;32m      4\u001b[0m \u001b[1;32mwhile\u001b[0m \u001b[0mi\u001b[0m\u001b[1;33m<\u001b[0m\u001b[0mlen\u001b[0m\u001b[1;33m(\u001b[0m\u001b[0mList\u001b[0m\u001b[1;33m)\u001b[0m\u001b[1;33m:\u001b[0m\u001b[1;33m\u001b[0m\u001b[1;33m\u001b[0m\u001b[0m\n\u001b[1;32m----> 5\u001b[1;33m     \u001b[0mList\u001b[0m\u001b[1;33m.\u001b[0m\u001b[0mremove\u001b[0m\u001b[1;33m(\u001b[0m\u001b[0mremoved_element\u001b[0m\u001b[1;33m)\u001b[0m\u001b[1;33m\u001b[0m\u001b[1;33m\u001b[0m\u001b[0m\n\u001b[0m\u001b[0;32m      6\u001b[0m     \u001b[0mi\u001b[0m\u001b[1;33m+=\u001b[0m\u001b[1;36m1\u001b[0m\u001b[1;33m\u001b[0m\u001b[1;33m\u001b[0m\u001b[0m\n\u001b[0;32m      7\u001b[0m \u001b[0mList\u001b[0m\u001b[1;33m\u001b[0m\u001b[1;33m\u001b[0m\u001b[0m\n",
      "\u001b[1;31mValueError\u001b[0m: list.remove(x): x not in list"
     ]
    }
   ],
   "source": [
    "List=[1 ,1 ,2 ,3 ,4 ,5 ,1 ,2 ,1]\n",
    "removed_element =1\n",
    "i=0\n",
    "while i<len(List):\n",
    "    List.remove(removed_element)\n",
    "    i+=1\n",
    "List    "
   ]
  },
  {
   "cell_type": "markdown",
   "metadata": {},
   "source": [
    " **37-write a python program to Replace index elements with elements in Other List (The original list 1 is : [‘Gfg’, ‘is’, ‘best’] The original list 2 is : [0, 1, 2, 1, 0, 0, 0, 2, 1, 1, 2, 0] The lists after index elements replacements is : [‘Gfg’, ‘is’, ‘best’, ‘is’, ‘Gfg’, ‘Gfg’, ‘Gfg’, ‘best’, ‘is’, ‘is’, ‘best’, ‘Gfg’])"
   ]
  },
  {
   "cell_type": "code",
   "execution_count": 22,
   "metadata": {},
   "outputs": [
    {
     "data": {
      "text/plain": [
       "['Gfg',\n",
       " 'is',\n",
       " 'best',\n",
       " 'is',\n",
       " 'Gfg',\n",
       " 'Gfg',\n",
       " 'Gfg',\n",
       " 'best',\n",
       " 'is',\n",
       " 'is',\n",
       " 'best',\n",
       " 'Gfg']"
      ]
     },
     "execution_count": 22,
     "metadata": {},
     "output_type": "execute_result"
    }
   ],
   "source": [
    "List1=[\"Gfg\", \"is\", \"best\"]\n",
    "List2= [0, 1, 2, 1, 0, 0, 0, 2, 1, 1, 2, 0]\n",
    "List3=[]\n",
    "for i in List2:\n",
    "    List3.append(List1[i])\n",
    "    \n",
    "List3    "
   ]
  },
  {
   "cell_type": "markdown",
   "metadata": {},
   "source": [
    "**38- write python program to Retain records with N occurrences of K(Input : test_list = [(4, 5, 5, 4), (5, 4, 3)], K = 5, N = 2 \n",
    "Output : [(4, 5, 5, 4)]\n",
    "Input : test_list = [(4, 5, 5, 4), (5, 4, 3)], K = 5, N = 3 \n",
    "Output : [] )"
   ]
  },
  {
   "cell_type": "code",
   "execution_count": null,
   "metadata": {},
   "outputs": [],
   "source": []
  },
  {
   "cell_type": "markdown",
   "metadata": {},
   "source": [
    "**39-write a Python Program to Sort the list according to the column using lambda\n",
    "array = [[1, 3, 3], [2, 1, 2], [3, 2, 1]]\n",
    "Output :\n",
    "Sorted array specific to column 0, [[1, 3, 3], [2, 1, 2], [3, 2, 1]]\n",
    "Sorted array specific to column 1, [[2, 1, 2], [3, 2, 1], [1, 3, 3]]\n",
    "Sorted array specific to column 2, [[3, 2, 1], [2, 1, 2], [1, 3, 3]]"
   ]
  },
  {
   "cell_type": "code",
   "execution_count": null,
   "metadata": {},
   "outputs": [],
   "source": []
  },
  {
   "cell_type": "code",
   "execution_count": null,
   "metadata": {},
   "outputs": [],
   "source": [
    "**40- write a program to Sort Python Dictionaries by Key or Value\n",
    "Input:\n",
    "{'ravi': 10, 'rajnish': 9, 'sanjeev': 15, 'yash': 2, 'suraj': 32}\n",
    "\n",
    "Output: \n",
    "{'rajnish': 9, 'ravi': 10, 'sanjeev': 15, 'suraj': 32, 'yash': 2}"
   ]
  },
  {
   "cell_type": "code",
   "execution_count": 6,
   "metadata": {
    "ExecuteTime": {
     "end_time": "2023-08-01T19:59:58.406920Z",
     "start_time": "2023-08-01T19:59:58.390310Z"
    }
   },
   "outputs": [
    {
     "data": {
      "text/plain": [
       "{'rajnish': 9, 'ravi': 10, 'sanjeev': 15, 'suraj': 32, 'yash': 2}"
      ]
     },
     "execution_count": 6,
     "metadata": {},
     "output_type": "execute_result"
    }
   ],
   "source": [
    "dictionary={'ravi': 10, 'rajnish': 9, 'sanjeev': 15, 'yash': 2, 'suraj': 32}\n",
    "\n",
    "dictionary=dict( sorted ( dictionary . items () ) )\n",
    "dictionary"
   ]
  },
  {
   "cell_type": "markdown",
   "metadata": {},
   "source": [
    "**41-write python program to Remove keys with Values Greater than K ( Including mixed values )\n",
    "nput : test_dict = {‘Gfg’ : 3, ‘is’ : 7, ‘best’ : 10, ‘for’ : 6, ‘geeks’ : ‘CS’},\n",
    "K = 7 \n",
    "Output : {‘Gfg’ : 3, ‘for’ : 6, ‘geeks’ : ‘CS’}"
   ]
  },
  {
   "cell_type": "code",
   "execution_count": null,
   "metadata": {},
   "outputs": [],
   "source": []
  },
  {
   "cell_type": "markdown",
   "metadata": {},
   "source": [
    "**42-Write a Python program to concatenate the following dictionaries to create a new one\n",
    "\n",
    "Sample Dictionary :\n",
    "dic1={1:10, 2:20}\n",
    "dic2={3:30, 4:40}\n",
    "dic3={5:50,6:60}\n",
    "Expected Result : {1: 10, 2: 20, 3: 30, 4: 40, 5: 50, 6: 60}"
   ]
  },
  {
   "cell_type": "code",
   "execution_count": 13,
   "metadata": {
    "ExecuteTime": {
     "end_time": "2023-08-01T20:19:17.767771Z",
     "start_time": "2023-08-01T20:19:17.759116Z"
    }
   },
   "outputs": [
    {
     "data": {
      "text/plain": [
       "{1: 10, 2: 20, 3: 30, 4: 40, 5: 50, 6: 60}"
      ]
     },
     "execution_count": 13,
     "metadata": {},
     "output_type": "execute_result"
    }
   ],
   "source": [
    "dic1={1:10, 2:20} \n",
    "dic2={3:30, 4:40} \n",
    "dic3={5:50,6:60}\n",
    "\n",
    "dic4.update(dic1)\n",
    "dic4.update(dic2)\n",
    "dic4.update(dic3)\n",
    "dic4\n"
   ]
  },
  {
   "cell_type": "code",
   "execution_count": 15,
   "metadata": {
    "ExecuteTime": {
     "end_time": "2023-08-01T20:22:49.955974Z",
     "start_time": "2023-08-01T20:22:49.946492Z"
    }
   },
   "outputs": [
    {
     "name": "stdout",
     "output_type": "stream",
     "text": [
      "{3: 30, 5: 50, 6: 60, 2: 20, 4: 40, 1: 10}\n"
     ]
    }
   ],
   "source": [
    "dic1={1:10, 2:20} \n",
    "dic2={3:30, 4:40} \n",
    "dic3={5:50,6:60}\n",
    "\n",
    "dic4={k:v for k,v in dic1.items() | dic2.items() | dic3.items()}\n",
    "\n",
    "print(dic4)"
   ]
  },
  {
   "cell_type": "code",
   "execution_count": null,
   "metadata": {},
   "outputs": [],
   "source": []
  },
  {
   "cell_type": "markdown",
   "metadata": {},
   "source": [
    "**43-Write a Python program to iterate over dictionaries using for loops"
   ]
  },
  {
   "cell_type": "code",
   "execution_count": 19,
   "metadata": {
    "ExecuteTime": {
     "end_time": "2023-08-01T20:27:19.215949Z",
     "start_time": "2023-08-01T20:27:19.204954Z"
    }
   },
   "outputs": [
    {
     "name": "stdout",
     "output_type": "stream",
     "text": [
      "ravi 10\n",
      "rajnish 9\n",
      "sanjeev 15\n",
      "yash 2\n",
      "suraj 32\n"
     ]
    }
   ],
   "source": [
    "dic={'ravi': 10, 'rajnish': 9, 'sanjeev': 15, 'yash': 2, 'suraj': 32}\n",
    "for item,value in dic.items():\n",
    "    print(item,value)"
   ]
  },
  {
   "cell_type": "markdown",
   "metadata": {},
   "source": [
    "**44- Write a Python script to merge two Python dictionaries"
   ]
  },
  {
   "cell_type": "code",
   "execution_count": 25,
   "metadata": {
    "ExecuteTime": {
     "end_time": "2023-08-01T20:31:28.068819Z",
     "start_time": "2023-08-01T20:31:28.050016Z"
    }
   },
   "outputs": [
    {
     "data": {
      "text/plain": [
       "{1: 10, 2: 20, 3: 30, 4: 40}"
      ]
     },
     "execution_count": 25,
     "metadata": {},
     "output_type": "execute_result"
    }
   ],
   "source": [
    "dic1={1:10, 2:20} \n",
    "dic2={3:30, 4:40}\n",
    "dic3={}\n",
    "dic3.update (dic1)\n",
    "dic3.update (dic2)\n",
    "dic3"
   ]
  },
  {
   "cell_type": "markdown",
   "metadata": {},
   "source": [
    "**45-Write a Python program to get the maximum and minimum values of a dictionary values"
   ]
  },
  {
   "cell_type": "code",
   "execution_count": 30,
   "metadata": {
    "ExecuteTime": {
     "end_time": "2023-08-01T20:34:33.288243Z",
     "start_time": "2023-08-01T20:34:33.279269Z"
    }
   },
   "outputs": [
    {
     "name": "stdout",
     "output_type": "stream",
     "text": [
      "60\n",
      "10\n"
     ]
    }
   ],
   "source": [
    "dic={1: 10, 2: 20, 3: 30, 4: 40, 5: 50, 6: 60}\n",
    "List=list (dic.values())\n",
    "List.sort()\n",
    "print (List[-1])\n",
    "print (List[0])"
   ]
  },
  {
   "cell_type": "markdown",
   "metadata": {},
   "source": [
    "**46- Write a Python program to drop empty items from a given dictionary.\n",
    "Original Dictionary:\n",
    "{'c1': 'Red', 'c2': 'Green', 'c3': None}\n",
    "New Dictionary after dropping empty items:\n",
    "{'c1': 'Red', 'c2': 'Green'}"
   ]
  },
  {
   "cell_type": "code",
   "execution_count": 44,
   "metadata": {
    "ExecuteTime": {
     "end_time": "2023-08-01T20:53:15.553552Z",
     "start_time": "2023-08-01T20:53:15.532466Z"
    }
   },
   "outputs": [
    {
     "data": {
      "text/plain": [
       "{'c1': 'Red', 'c2': 'Green'}"
      ]
     },
     "execution_count": 44,
     "metadata": {},
     "output_type": "execute_result"
    }
   ],
   "source": [
    "Original_Dictionary={'c1': 'Red', 'c2': 'Green', 'c3':\"\"}\n",
    "\n",
    "new_dictionary={k:v for k,v in Original_Dictionary.items() if v }\n",
    "new_dictionary"
   ]
  },
  {
   "cell_type": "markdown",
   "metadata": {},
   "source": [
    "**47-Write a Python program to create a tuple of numbers and print one item"
   ]
  },
  {
   "cell_type": "code",
   "execution_count": 4,
   "metadata": {
    "ExecuteTime": {
     "end_time": "2023-08-01T21:05:41.621044Z",
     "start_time": "2023-08-01T21:05:30.797903Z"
    }
   },
   "outputs": [
    {
     "name": "stdout",
     "output_type": "stream",
     "text": [
      "enter the size of tuple5\n",
      "enter numbers 11\n",
      "enter numbers 22\n",
      "enter numbers 33\n",
      "enter numbers 44\n",
      "enter numbers 55\n",
      "(11, 22, 33, 44, 55)\n",
      "enter the item you want1\n",
      "11\n"
     ]
    }
   ],
   "source": [
    "size=int(input(\"enter the size of tuple\"))\n",
    "List=[]\n",
    "for i in range(0,size):\n",
    "    item=int(input(\"enter numbers \"))\n",
    "    List.append(item)\n",
    "\n",
    "myTuple=tuple(List)\n",
    "print(myTuple)\n",
    "index=int (input(\"enter the item you want\"))\n",
    "print(myTuple[index-1])"
   ]
  },
  {
   "cell_type": "markdown",
   "metadata": {},
   "source": [
    "**48-Write a Python program to unpack a tuple into several variables"
   ]
  },
  {
   "cell_type": "code",
   "execution_count": 5,
   "metadata": {
    "ExecuteTime": {
     "end_time": "2023-08-01T21:11:28.707105Z",
     "start_time": "2023-08-01T21:11:28.695136Z"
    }
   },
   "outputs": [
    {
     "name": "stdout",
     "output_type": "stream",
     "text": [
      "11 22 33 44\n"
     ]
    }
   ],
   "source": [
    "mytuple=(11,22,33,44)\n",
    "item1,item2,item3,item4=mytuple\n",
    "print(item1,item2,item3,item4)\n"
   ]
  },
  {
   "cell_type": "markdown",
   "metadata": {},
   "source": [
    "**49-Write a Python program to add an item to a tuple"
   ]
  },
  {
   "cell_type": "code",
   "execution_count": 2,
   "metadata": {
    "ExecuteTime": {
     "end_time": "2023-08-01T21:17:51.751212Z",
     "start_time": "2023-08-01T21:17:36.744548Z"
    }
   },
   "outputs": [
    {
     "name": "stdout",
     "output_type": "stream",
     "text": [
      "this is your tuple  \n",
      "(11, 22, 33, 44)\n",
      "enter the item you want to add in tuple100\n",
      "(11, 22, 33, 44, 100)\n"
     ]
    }
   ],
   "source": [
    "mytuple=(11,22,33,44)\n",
    "print(\"this is your tuple  \")\n",
    "print(mytuple)\n",
    "mytuple=list(mytuple)\n",
    "item=int(input(\"enter the item you want to add in tuple\"))\n",
    "mytuple.append(item)\n",
    "mytuple=tuple(mytuple)\n",
    "print(mytuple)"
   ]
  },
  {
   "cell_type": "markdown",
   "metadata": {},
   "source": [
    "**50-Write a Python program to convert a tuple to a string"
   ]
  },
  {
   "cell_type": "code",
   "execution_count": 4,
   "metadata": {
    "ExecuteTime": {
     "end_time": "2023-08-01T21:21:42.184399Z",
     "start_time": "2023-08-01T21:21:42.163617Z"
    }
   },
   "outputs": [
    {
     "data": {
      "text/plain": [
       "'11223344'"
      ]
     },
     "execution_count": 4,
     "metadata": {},
     "output_type": "execute_result"
    }
   ],
   "source": [
    "mytuple=('11','22','33','44')\n",
    "mystring=\"\".join(mytuple)\n",
    "mystring"
   ]
  },
  {
   "cell_type": "markdown",
   "metadata": {},
   "source": [
    "**51-Write a Python program to convert a list to a tuple"
   ]
  },
  {
   "cell_type": "code",
   "execution_count": 5,
   "metadata": {
    "ExecuteTime": {
     "end_time": "2023-08-01T21:22:34.922707Z",
     "start_time": "2023-08-01T21:22:34.905719Z"
    }
   },
   "outputs": [
    {
     "data": {
      "text/plain": [
       "(1, 1, 2, 3, 4, 5, 1, 2, 1)"
      ]
     },
     "execution_count": 5,
     "metadata": {},
     "output_type": "execute_result"
    }
   ],
   "source": [
    "List=[1 ,1 ,2 ,3 ,4 ,5 ,1 ,2 ,1]\n",
    "mytuple=tuple(List)\n",
    "mytuple"
   ]
  },
  {
   "cell_type": "markdown",
   "metadata": {},
   "source": [
    "**52-Write a Python program to reverse a tuple"
   ]
  },
  {
   "cell_type": "code",
   "execution_count": 8,
   "metadata": {
    "ExecuteTime": {
     "end_time": "2023-08-01T21:25:06.964258Z",
     "start_time": "2023-08-01T21:25:06.955465Z"
    }
   },
   "outputs": [
    {
     "data": {
      "text/plain": [
       "(44, 33, 22, 11)"
      ]
     },
     "execution_count": 8,
     "metadata": {},
     "output_type": "execute_result"
    }
   ],
   "source": [
    "mytuple=(11,22,33,44)\n",
    "mylist=list(mytuple)\n",
    "mylist.reverse()\n",
    "mytuple=tuple(mylist)\n",
    "mytuple"
   ]
  },
  {
   "cell_type": "markdown",
   "metadata": {},
   "source": [
    "**53-Write a Python program to replace the last value of tuples in a list.\n",
    "Sample list: [(10, 20, 40), (40, 50, 60), (70, 80, 90)]\n",
    "Expected Output: [(10, 20, 100), (40, 50, 100), (70, 80, 100)]"
   ]
  },
  {
   "cell_type": "code",
   "execution_count": 12,
   "metadata": {
    "ExecuteTime": {
     "end_time": "2023-08-01T21:33:53.434469Z",
     "start_time": "2023-08-01T21:33:50.136490Z"
    }
   },
   "outputs": [
    {
     "name": "stdout",
     "output_type": "stream",
     "text": [
      "enter the item 100\n"
     ]
    },
    {
     "ename": "TypeError",
     "evalue": "'tuple' object does not support item assignment",
     "output_type": "error",
     "traceback": [
      "\u001b[1;31m---------------------------------------------------------------------------\u001b[0m",
      "\u001b[1;31mTypeError\u001b[0m                                 Traceback (most recent call last)",
      "\u001b[1;32m<ipython-input-12-18c6bd2103ec>\u001b[0m in \u001b[0;36m<module>\u001b[1;34m\u001b[0m\n\u001b[0;32m      3\u001b[0m \u001b[0mlength_tuple\u001b[0m\u001b[1;33m=\u001b[0m\u001b[0mlen\u001b[0m\u001b[1;33m(\u001b[0m\u001b[0mList\u001b[0m\u001b[1;33m[\u001b[0m\u001b[1;36m0\u001b[0m\u001b[1;33m]\u001b[0m\u001b[1;33m)\u001b[0m\u001b[1;33m\u001b[0m\u001b[1;33m\u001b[0m\u001b[0m\n\u001b[0;32m      4\u001b[0m \u001b[1;32mfor\u001b[0m \u001b[0mi\u001b[0m \u001b[1;32min\u001b[0m \u001b[0mrange\u001b[0m\u001b[1;33m(\u001b[0m\u001b[1;36m0\u001b[0m\u001b[1;33m,\u001b[0m\u001b[0mlen\u001b[0m\u001b[1;33m(\u001b[0m\u001b[0mList\u001b[0m\u001b[1;33m)\u001b[0m\u001b[1;33m)\u001b[0m\u001b[1;33m:\u001b[0m\u001b[1;33m\u001b[0m\u001b[1;33m\u001b[0m\u001b[0m\n\u001b[1;32m----> 5\u001b[1;33m     \u001b[0mList\u001b[0m\u001b[1;33m[\u001b[0m\u001b[0mi\u001b[0m\u001b[1;33m]\u001b[0m\u001b[1;33m[\u001b[0m\u001b[0mlength_tuple\u001b[0m\u001b[1;33m-\u001b[0m\u001b[1;36m1\u001b[0m\u001b[1;33m]\u001b[0m\u001b[1;33m=\u001b[0m\u001b[0mitem\u001b[0m\u001b[1;33m\u001b[0m\u001b[1;33m\u001b[0m\u001b[0m\n\u001b[0m\u001b[0;32m      6\u001b[0m \u001b[1;33m\u001b[0m\u001b[0m\n\u001b[0;32m      7\u001b[0m \u001b[0mList\u001b[0m\u001b[1;33m\u001b[0m\u001b[1;33m\u001b[0m\u001b[0m\n",
      "\u001b[1;31mTypeError\u001b[0m: 'tuple' object does not support item assignment"
     ]
    }
   ],
   "source": [
    "List= [(10, 20, 40), (40, 50, 60), (70, 80, 90)]\n",
    "item=int(input(\"enter the item \"))\n",
    "length_tuple=len(List[0])\n",
    "for i in range(0,len(List)):\n",
    "    List.remove()\n",
    "    List[i][length_tuple-1]=item\n",
    "\n",
    "List"
   ]
  },
  {
   "cell_type": "markdown",
   "metadata": {},
   "source": [
    "**54-Write a Python program to convert a given string list to a tuple\n",
    "Original string: python 3.0\n",
    "<class 'str'>\n",
    "Convert the said string to a tuple:\n",
    "('p', 'y', 't', 'h', 'o', 'n', '3', '.', '0')"
   ]
  },
  {
   "cell_type": "code",
   "execution_count": 17,
   "metadata": {
    "ExecuteTime": {
     "end_time": "2023-08-01T23:58:05.377937Z",
     "start_time": "2023-08-01T23:58:05.357010Z"
    }
   },
   "outputs": [
    {
     "data": {
      "text/plain": [
       "('p', 'y', 't', 'h', 'o', 'n', ' ', '3', '.', '0')"
      ]
     },
     "execution_count": 17,
     "metadata": {},
     "output_type": "execute_result"
    }
   ],
   "source": [
    "myst=\"python 3.0\"\n",
    "mylist=[]\n",
    "for i in myst:\n",
    "    mylist.append(i)\n",
    "mttuple=tuple(mylist)\n",
    "mttuple"
   ]
  },
  {
   "cell_type": "markdown",
   "metadata": {},
   "source": [
    "**55-Write a Python program to calculate the average value of the numbers in a given tuple of tuples"
   ]
  },
  {
   "cell_type": "code",
   "execution_count": 21,
   "metadata": {
    "ExecuteTime": {
     "end_time": "2023-08-02T00:00:56.064193Z",
     "start_time": "2023-08-02T00:00:56.057212Z"
    }
   },
   "outputs": [
    {
     "data": {
      "text/plain": [
       "27.5"
      ]
     },
     "execution_count": 21,
     "metadata": {},
     "output_type": "execute_result"
    }
   ],
   "source": [
    "mytuple=(11,22,33,44)\n",
    "Sum=0\n",
    "for i in mytuple:\n",
    "    Sum+=i\n",
    "avarage=Sum/len(mytuple)  \n",
    "avarage"
   ]
  },
  {
   "cell_type": "markdown",
   "metadata": {},
   "source": [
    "**56-Write a Python program to add member(s) to a set."
   ]
  },
  {
   "cell_type": "code",
   "execution_count": 26,
   "metadata": {
    "ExecuteTime": {
     "end_time": "2023-08-02T00:07:06.926136Z",
     "start_time": "2023-08-02T00:06:50.008989Z"
    }
   },
   "outputs": [
    {
     "name": "stdout",
     "output_type": "stream",
     "text": [
      "Enter number of members you want to add4\n",
      "Please Enter The Member Nameali\n",
      "Please Enter The Member Namealaa\n",
      "Please Enter The Member Namemohamed\n",
      "Please Enter The Member Nameahmed\n"
     ]
    },
    {
     "data": {
      "text/plain": [
       "{'ahmed', 'alaa', 'ali', 'mohamed'}"
      ]
     },
     "execution_count": 26,
     "metadata": {},
     "output_type": "execute_result"
    }
   ],
   "source": [
    "number_members=int (input(\"Enter number of members you want to add\"))\n",
    "members=set()\n",
    "for i in range(0,number_members):\n",
    "    member_name=input(\"Please Enter The Member Name\")\n",
    "    members.add(member_name)\n",
    "members"
   ]
  },
  {
   "cell_type": "markdown",
   "metadata": {},
   "source": [
    "**57-Write a Python program to remove an item from a set if it is present in the set."
   ]
  },
  {
   "cell_type": "code",
   "execution_count": 29,
   "metadata": {
    "ExecuteTime": {
     "end_time": "2023-08-02T00:11:13.384893Z",
     "start_time": "2023-08-02T00:11:06.465385Z"
    }
   },
   "outputs": [
    {
     "name": "stdout",
     "output_type": "stream",
     "text": [
      "please enter the item you want to removeali\n"
     ]
    },
    {
     "data": {
      "text/plain": [
       "{'ahmed', 'alaa', 'mohamed'}"
      ]
     },
     "execution_count": 29,
     "metadata": {},
     "output_type": "execute_result"
    }
   ],
   "source": [
    "myset={'ahmed', 'alaa', 'ali', 'mohamed'}\n",
    "item_want_to_remove=input(\"please enter the item you want to remove\")\n",
    "if item_want_to_remove  in myset:\n",
    "    myset.discard(item_want_to_remove)\n",
    "myset"
   ]
  },
  {
   "cell_type": "markdown",
   "metadata": {},
   "source": [
    "**58-Write a Python program to create an intersection,union,difference and symmetric difference of sets"
   ]
  },
  {
   "cell_type": "code",
   "execution_count": 32,
   "metadata": {
    "ExecuteTime": {
     "end_time": "2023-08-02T00:17:26.673633Z",
     "start_time": "2023-08-02T00:17:26.661636Z"
    }
   },
   "outputs": [
    {
     "name": "stdout",
     "output_type": "stream",
     "text": [
      "{'alaa', 'ali'}\n",
      "{'ali', 'mohamoud', 'alaa', 'ashraf', 'mohamed', 'ahmed'}\n",
      "{'mohamed', 'ahmed'}\n",
      "{'mohamoud', 'ashraf', 'mohamed', 'ahmed'}\n"
     ]
    }
   ],
   "source": [
    "myset1={'ahmed', 'alaa', 'ali', 'mohamed'}\n",
    "myset2={'ashraf', 'alaa', 'ali', 'mohamoud'}\n",
    "myset3=myset1.intersection(myset2)\n",
    "myset4=myset1.union(myset2)\n",
    "myset5=myset1.difference(myset2)\n",
    "myset6=myset1.symmetric_difference(myset2)\n",
    "print (myset3)\n",
    "print (myset4)\n",
    "print (myset5)\n",
    "print (myset6)"
   ]
  },
  {
   "cell_type": "markdown",
   "metadata": {},
   "source": [
    "**59-Write a Python program to find the maximum and minimum values in a set"
   ]
  },
  {
   "cell_type": "code",
   "execution_count": 26,
   "metadata": {},
   "outputs": [
    {
     "name": "stdout",
     "output_type": "stream",
     "text": [
      "1510\n",
      "0\n"
     ]
    }
   ],
   "source": [
    "our_set={33,4,1,0,99,1200,1510}\n",
    "List =list(our_set)\n",
    "List.sort()\n",
    "print(List[-1])\n",
    "print (List[0])\n"
   ]
  },
  {
   "cell_type": "markdown",
   "metadata": {},
   "source": [
    "**60- Write a Python program that finds all pairs of elements in a list whose sum is equal to a given value."
   ]
  },
  {
   "cell_type": "code",
   "execution_count": null,
   "metadata": {},
   "outputs": [],
   "source": []
  }
 ],
 "metadata": {
  "kernelspec": {
   "display_name": "Python 3",
   "language": "python",
   "name": "python3"
  },
  "language_info": {
   "codemirror_mode": {
    "name": "ipython",
    "version": 3
   },
   "file_extension": ".py",
   "mimetype": "text/x-python",
   "name": "python",
   "nbconvert_exporter": "python",
   "pygments_lexer": "ipython3",
   "version": "3.8.5"
  }
 },
 "nbformat": 4,
 "nbformat_minor": 5
}
